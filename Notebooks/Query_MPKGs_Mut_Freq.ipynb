{
 "cells": [
  {
   "cell_type": "markdown",
   "metadata": {},
   "source": [
    "#### Example queries from Multi-omic provider.\n",
    "\n",
    "##### This jupyter notebook give an example to query data from disease specific gene  mutation"
   ]
  },
  {
   "cell_type": "code",
   "execution_count": 1,
   "metadata": {},
   "outputs": [],
   "source": [
    "import requests\n",
    "\n",
    "import pandas as pd\n",
    "def Query_fields():\n",
    "    Query_str = \"https://biothings.ncats.io/tcga_mut_freq_kp/metadata/fields\"\n",
    "    response = requests.get(Query_str)\n",
    "    result = response.json()\n",
    "    return(result)\n",
    "\n",
    "def format_result_Mut_Freq(result):\n",
    "    subject_id = []\n",
    "    subject_symbol = []\n",
    "    subject_type = []\n",
    "\n",
    "    object_id = []\n",
    "    object_name = []\n",
    "    object_type = []\n",
    "\n",
    "    edge_context = []\n",
    "    edge_label = []\n",
    "    edge_confidence_freq_by_case = []\n",
    "    edge_confidence_freq_by_sample = []\n",
    "    \n",
    "    for i in range(0,len(result['hits'])):\n",
    "        #Edges \n",
    "        edge_label.append(result['hits'][i]['association']['edge_label'])\n",
    "        edge_confidence_freq_by_case.append(result['hits'][i]['association']['freq_by_case'])\n",
    "        edge_confidence_freq_by_sample.append(result['hits'][i]['association']['freq_by_sample'])\n",
    "     \n",
    "        #Subject\n",
    "        subject_id.append(result['hits'][i]['subject']['id'])  \n",
    "        subject_symbol.append(result['hits'][i]['subject']['SYMBOL'])\n",
    "        subject_type.append(result['hits'][i]['subject']['type'])\n",
    "\n",
    "        #Object\n",
    "        object_id.append(result['hits'][i]['object']['id'])\n",
    "        object_name.append(result['hits'][i]['object']['tcga_name'])\n",
    "        object_type.append(result['hits'][i]['object']['type'])\n",
    "\n",
    "    #Generating dataFrame for the results\n",
    "    result_df = pd.DataFrame({\n",
    "    \"subject_id\":subject_id,\n",
    "    \"subject_symbol\": subject_symbol,\n",
    "    \"subject_type\": subject_type,\n",
    "        \n",
    "    \"object_id\":object_id,\n",
    "    \"object_name\":object_name,\n",
    "    \"object_type\":object_type,\n",
    "        \n",
    "    \"edge_label\": edge_label,\n",
    "    \"edge_freq_by_case\": edge_confidence_freq_by_case,\n",
    "    \"edge_freq_by_sample\":edge_confidence_freq_by_sample})\n",
    "    return(result_df)\n",
    "\n",
    "\n",
    "def Query_Mut_Freq_KP(Query):\n",
    "    Query_str = \"https://biothings.ncats.io/tcga_mut_freq_kp/query?q=\"\n",
    "    \n",
    "    count = 0\n",
    "    for i in Query:\n",
    "        count = count + 1\n",
    "        if count != len(Query):\n",
    "            Query_str = Query_str + i + \":\"+ Query[i] + \"%20AND%20\"\n",
    "        else:\n",
    "            Query_str = Query_str + i + \":\"+ Query[i]+\"&size=1000\"\n",
    "    print(Query_str)\n",
    "    response = requests.get(Query_str)\n",
    "    result = response.json()\n",
    "    return(result)"
   ]
  },
  {
   "cell_type": "markdown",
   "metadata": {},
   "source": [
    "#### Browse the field info in the KG"
   ]
  },
  {
   "cell_type": "code",
   "execution_count": 2,
   "metadata": {},
   "outputs": [
    {
     "data": {
      "text/plain": [
       "{'association': {'index': True, 'type': 'object'},\n",
       " 'association.edge_label': {'index': True, 'type': 'keyword'},\n",
       " 'association.freq_by_case': {'index': True, 'type': 'float'},\n",
       " 'association.freq_by_sample': {'index': True, 'type': 'float'},\n",
       " 'association.no_mut_cases': {'index': True, 'type': 'integer'},\n",
       " 'association.no_mut_samples': {'index': True, 'type': 'integer'},\n",
       " 'association.relation_name': {'index': True, 'type': 'keyword'},\n",
       " 'object': {'index': True, 'type': 'object'},\n",
       " 'object.MONDO': {'index': True,\n",
       "  'searched_by_default': True,\n",
       "  'type': 'keyword'},\n",
       " 'object.id': {'index': True, 'type': 'keyword'},\n",
       " 'object.tcga_name': {'index': True, 'type': 'keyword'},\n",
       " 'object.type': {'index': True, 'type': 'keyword'},\n",
       " 'subject': {'index': True, 'type': 'object'},\n",
       " 'subject.SYMBOL': {'index': True,\n",
       "  'searched_by_default': True,\n",
       "  'type': 'keyword'},\n",
       " 'subject.id': {'index': True, 'type': 'keyword'},\n",
       " 'subject.type': {'index': True, 'type': 'keyword'}}"
      ]
     },
     "execution_count": 2,
     "metadata": {},
     "output_type": "execute_result"
    }
   ],
   "source": [
    "#Get to know the fields in the KG\n",
    "meta = Query_fields()\n",
    "meta"
   ]
  },
  {
   "cell_type": "markdown",
   "metadata": {},
   "source": [
    "####  Set up the query"
   ]
  },
  {
   "cell_type": "code",
   "execution_count": 3,
   "metadata": {},
   "outputs": [],
   "source": [
    "#https://www.w3schools.com/tags/ref_urlencode.ASP\n",
    "\n",
    "Query = {#\"object.id\":\"%22MONDO:0018177%22\",\n",
    "         \"association.freq_by_case\":\"%3E0.05\",\n",
    "         #\"association.freq_by_case\":\"%3E0.1\",\n",
    "         \"subject.SYMBOL\":\"EGFR\"\n",
    "        }"
   ]
  },
  {
   "cell_type": "markdown",
   "metadata": {},
   "source": [
    "#### Query data from the drug_response_kp"
   ]
  },
  {
   "cell_type": "code",
   "execution_count": 4,
   "metadata": {},
   "outputs": [
    {
     "name": "stdout",
     "output_type": "stream",
     "text": [
      "https://biothings.ncats.io/tcga_mut_freq_kp/query?q=association.freq_by_case:%3E0.05%20AND%20subject.SYMBOL:EGFR&size=1000\n"
     ]
    }
   ],
   "source": [
    "result = Query_Mut_Freq_KP(Query)  #Jason format"
   ]
  },
  {
   "cell_type": "code",
   "execution_count": 5,
   "metadata": {},
   "outputs": [],
   "source": [
    "result_df = format_result_Mut_Freq(result) #Pandas DataFrame format"
   ]
  },
  {
   "cell_type": "code",
   "execution_count": 6,
   "metadata": {},
   "outputs": [
    {
     "data": {
      "text/html": [
       "<div>\n",
       "<style scoped>\n",
       "    .dataframe tbody tr th:only-of-type {\n",
       "        vertical-align: middle;\n",
       "    }\n",
       "\n",
       "    .dataframe tbody tr th {\n",
       "        vertical-align: top;\n",
       "    }\n",
       "\n",
       "    .dataframe thead th {\n",
       "        text-align: right;\n",
       "    }\n",
       "</style>\n",
       "<table border=\"1\" class=\"dataframe\">\n",
       "  <thead>\n",
       "    <tr style=\"text-align: right;\">\n",
       "      <th></th>\n",
       "      <th>subject_id</th>\n",
       "      <th>subject_symbol</th>\n",
       "      <th>subject_type</th>\n",
       "      <th>object_id</th>\n",
       "      <th>object_name</th>\n",
       "      <th>object_type</th>\n",
       "      <th>edge_label</th>\n",
       "      <th>edge_freq_by_case</th>\n",
       "      <th>edge_freq_by_sample</th>\n",
       "    </tr>\n",
       "  </thead>\n",
       "  <tbody>\n",
       "    <tr>\n",
       "      <th>0</th>\n",
       "      <td>SYMBOL:EGFR</td>\n",
       "      <td>EGFR</td>\n",
       "      <td>gene</td>\n",
       "      <td>MONDO:0018177</td>\n",
       "      <td>GBM</td>\n",
       "      <td>disease</td>\n",
       "      <td>gene_has_variant_that_contributes_to_disease_a...</td>\n",
       "      <td>0.234097</td>\n",
       "      <td>0.235732</td>\n",
       "    </tr>\n",
       "    <tr>\n",
       "      <th>2</th>\n",
       "      <td>SYMBOL:EGFR</td>\n",
       "      <td>EGFR</td>\n",
       "      <td>gene</td>\n",
       "      <td>MONDO:0005061</td>\n",
       "      <td>LUAD</td>\n",
       "      <td>disease</td>\n",
       "      <td>gene_has_variant_that_contributes_to_disease_a...</td>\n",
       "      <td>0.126984</td>\n",
       "      <td>0.126538</td>\n",
       "    </tr>\n",
       "    <tr>\n",
       "      <th>4</th>\n",
       "      <td>SYMBOL:EGFR</td>\n",
       "      <td>EGFR</td>\n",
       "      <td>gene</td>\n",
       "      <td>MONDO:0005012</td>\n",
       "      <td>SKCM</td>\n",
       "      <td>disease</td>\n",
       "      <td>gene_has_variant_that_contributes_to_disease_a...</td>\n",
       "      <td>0.072961</td>\n",
       "      <td>0.072650</td>\n",
       "    </tr>\n",
       "    <tr>\n",
       "      <th>3</th>\n",
       "      <td>SYMBOL:EGFR</td>\n",
       "      <td>EGFR</td>\n",
       "      <td>gene</td>\n",
       "      <td>MONDO:0005499</td>\n",
       "      <td>LGG</td>\n",
       "      <td>disease</td>\n",
       "      <td>gene_has_variant_that_contributes_to_disease_a...</td>\n",
       "      <td>0.070312</td>\n",
       "      <td>0.068441</td>\n",
       "    </tr>\n",
       "    <tr>\n",
       "      <th>1</th>\n",
       "      <td>SYMBOL:EGFR</td>\n",
       "      <td>EGFR</td>\n",
       "      <td>gene</td>\n",
       "      <td>MONDO:0000553</td>\n",
       "      <td>UCEC</td>\n",
       "      <td>disease</td>\n",
       "      <td>gene_has_variant_that_contributes_to_disease_a...</td>\n",
       "      <td>0.067925</td>\n",
       "      <td>0.067797</td>\n",
       "    </tr>\n",
       "  </tbody>\n",
       "</table>\n",
       "</div>"
      ],
      "text/plain": [
       "    subject_id subject_symbol subject_type      object_id object_name  \\\n",
       "0  SYMBOL:EGFR           EGFR         gene  MONDO:0018177         GBM   \n",
       "2  SYMBOL:EGFR           EGFR         gene  MONDO:0005061        LUAD   \n",
       "4  SYMBOL:EGFR           EGFR         gene  MONDO:0005012        SKCM   \n",
       "3  SYMBOL:EGFR           EGFR         gene  MONDO:0005499         LGG   \n",
       "1  SYMBOL:EGFR           EGFR         gene  MONDO:0000553        UCEC   \n",
       "\n",
       "  object_type                                         edge_label  \\\n",
       "0     disease  gene_has_variant_that_contributes_to_disease_a...   \n",
       "2     disease  gene_has_variant_that_contributes_to_disease_a...   \n",
       "4     disease  gene_has_variant_that_contributes_to_disease_a...   \n",
       "3     disease  gene_has_variant_that_contributes_to_disease_a...   \n",
       "1     disease  gene_has_variant_that_contributes_to_disease_a...   \n",
       "\n",
       "   edge_freq_by_case  edge_freq_by_sample  \n",
       "0           0.234097             0.235732  \n",
       "2           0.126984             0.126538  \n",
       "4           0.072961             0.072650  \n",
       "3           0.070312             0.068441  \n",
       "1           0.067925             0.067797  "
      ]
     },
     "execution_count": 6,
     "metadata": {},
     "output_type": "execute_result"
    }
   ],
   "source": [
    "result_df.sort_values(by = ['edge_freq_by_case'], ascending = False)"
   ]
  }
 ],
 "metadata": {
  "kernelspec": {
   "display_name": "Python 3",
   "language": "python",
   "name": "python3"
  },
  "language_info": {
   "codemirror_mode": {
    "name": "ipython",
    "version": 3
   },
   "file_extension": ".py",
   "mimetype": "text/x-python",
   "name": "python",
   "nbconvert_exporter": "python",
   "pygments_lexer": "ipython3",
   "version": "3.7.7"
  }
 },
 "nbformat": 4,
 "nbformat_minor": 4
}
